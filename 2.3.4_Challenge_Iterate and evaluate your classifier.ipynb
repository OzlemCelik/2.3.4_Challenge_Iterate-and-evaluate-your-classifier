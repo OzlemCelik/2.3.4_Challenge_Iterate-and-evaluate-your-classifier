{
 "cells": [
  {
   "cell_type": "code",
   "execution_count": 13,
   "metadata": {},
   "outputs": [],
   "source": [
    "import pandas as pd\n",
    "import sklearn\n",
    "import numpy as np\n",
    "import matplotlib.pyplot as plt"
   ]
  },
  {
   "cell_type": "code",
   "execution_count": 14,
   "metadata": {},
   "outputs": [],
   "source": [
    "imdb= pd.read_csv(\"/Users/OzlemCelik/Desktop/sentiment labelled sentences/imdb_labelled.txt\", \n",
    "                  delimiter= '\\t', header=None)\n",
    "\n",
    "imdb.columns = ['review', 'sentiment']\n",
    "\n",
    "keywords = ['wasted', 'only', \n",
    "            'too', 'but', \n",
    "            'hated', 'disappointed', \n",
    "            'garbage', 'do not', \n",
    "            'bad', 'awful',\n",
    "            'avoid', 'slow', \n",
    "            'insult', 'ridiculous',\n",
    "            'lacks', 'predictable', \n",
    "            'doomed', 'crap', \n",
    "            'excellent', 'average',\n",
    "            'BRILLIANCE', 'lazy',\n",
    "            'mediocre', 'enjoyed',\n",
    "            'glad','worst',\n",
    "            'nerves', 'terrible',\n",
    "            'horrible', 'best',\n",
    "            'overrated', 'unfunny',\n",
    "            'failed',\n",
    "            'painful', 'no', 'stupid',\n",
    "            'great', 'strong', 'nothing', 'aimless', 'predictable'\n",
    "            ]\n",
    "\n",
    "for key in keywords:\n",
    "    # Note that we add spaces around the key so that we're getting the word,\n",
    "    # not just pattern matching.\n",
    "    imdb[str(key)] = imdb.review.str.contains(\n",
    "        ' ' + str(key) + ' ',\n",
    "        case=False\n",
    "    )\n",
    "    "
   ]
  },
  {
   "cell_type": "code",
   "execution_count": 15,
   "metadata": {},
   "outputs": [],
   "source": [
    "imdb['allcaps'] = imdb.review.str.isupper()\n",
    "\n",
    "data = imdb[keywords + ['allcaps']]\n",
    "target = imdb['sentiment']\n",
    "\n",
    "from sklearn.naive_bayes import BernoulliNB\n",
    "bnb = BernoulliNB()\n",
    "y_pred = bnb.fit(data, target).predict(data)"
   ]
  },
  {
   "cell_type": "code",
   "execution_count": 16,
   "metadata": {},
   "outputs": [
    {
     "name": "stdout",
     "output_type": "stream",
     "text": [
      "With 20% Holdout: 0.6\n",
      "Testing on Sample: 0.6537433155080213\n"
     ]
    }
   ],
   "source": [
    "from sklearn.model_selection import train_test_split\n",
    "# Use train_test_split to create the necessary training and test groups\n",
    "X_train, X_test, y_train, y_test = train_test_split(data, target, test_size=0.2, random_state=20)\n",
    "print('With 20% Holdout: ' + str(bnb.fit(X_train, y_train).score(X_test, y_test)))\n",
    "print('Testing on Sample: ' + str(bnb.fit(data, target).score(data, target)))\n"
   ]
  },
  {
   "cell_type": "code",
   "execution_count": 17,
   "metadata": {},
   "outputs": [
    {
     "data": {
      "text/plain": [
       "array([0.63157895, 0.64473684, 0.6       , 0.69333333, 0.69333333,\n",
       "       0.57333333, 0.66216216, 0.62162162, 0.59459459, 0.63513514])"
      ]
     },
     "execution_count": 17,
     "metadata": {},
     "output_type": "execute_result"
    }
   ],
   "source": [
    "from sklearn.model_selection import cross_val_score\n",
    "cross_val_score(bnb, data, target, cv=10)"
   ]
  },
  {
   "cell_type": "code",
   "execution_count": 18,
   "metadata": {},
   "outputs": [
    {
     "data": {
      "text/plain": [
       "array([[121, 241],\n",
       "       [ 18, 368]])"
      ]
     },
     "execution_count": 18,
     "metadata": {},
     "output_type": "execute_result"
    }
   ],
   "source": [
    "# Perform your additional evaluation here.\n",
    "from sklearn.metrics import confusion_matrix\n",
    "cm= confusion_matrix(target,y_pred)\n",
    "cm"
   ]
  },
  {
   "cell_type": "code",
   "execution_count": null,
   "metadata": {},
   "outputs": [],
   "source": []
  }
 ],
 "metadata": {
  "kernelspec": {
   "display_name": "Python 3",
   "language": "python",
   "name": "python3"
  },
  "language_info": {
   "codemirror_mode": {
    "name": "ipython",
    "version": 3
   },
   "file_extension": ".py",
   "mimetype": "text/x-python",
   "name": "python",
   "nbconvert_exporter": "python",
   "pygments_lexer": "ipython3",
   "version": "3.7.0"
  }
 },
 "nbformat": 4,
 "nbformat_minor": 2
}
